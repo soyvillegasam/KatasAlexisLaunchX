{
 "cells": [
  {
   "cell_type": "markdown",
   "metadata": {},
   "source": [
    "<h1>kata 3\n",
    "<h2> Ejercicio 1:"
   ]
  },
  {
   "cell_type": "code",
   "execution_count": 1,
   "metadata": {},
   "outputs": [
    {
     "name": "stdout",
     "output_type": "stream",
     "text": [
      "No hay asteroide por el cual preocuparse, el más cercano tiene velocidad de 49 km/s.\n"
     ]
    }
   ],
   "source": [
    "def run():\n",
    "    v_dangerous = 25\n",
    "    v_real = 49\n",
    "    if v_real <= v_dangerous:\n",
    "        print(\"¡Alerta! Un asteroide caera sobre nostros\")\n",
    "    elif v_real <= 30:\n",
    "        print(\"Un asteroide esta cerca a impactar con nosotros\")\n",
    "    else:\n",
    "        print(\"No hay asteroide por el cual preocuparse, el más cercano tiene velocidad de \" + str(v_real) + \" km/s.\")\n",
    "\n",
    "\n",
    "if __name__ == '__main__':\n",
    "    run()\n",
    "\n",
    "\n"
   ]
  },
  {
   "cell_type": "markdown",
   "metadata": {},
   "source": [
    "<h2>Ejercicio2\n"
   ]
  },
  {
   "cell_type": "code",
   "execution_count": 6,
   "metadata": {},
   "outputs": [
    {
     "name": "stdout",
     "output_type": "stream",
     "text": [
      "¡Alerta! un asteroide esta pronto a caer, velocidad = 19 km/s.\n",
      "Busquen el asteroide en el cielo, es como un rayo\n"
     ]
    }
   ],
   "source": [
    "def run():\n",
    "    v_dangerous = 25\n",
    "    a_nearby = 19\n",
    "    v_look_thunder = 20\n",
    "    if a_nearby <= v_dangerous:\n",
    "        print(\"¡Alerta! un asteroide esta pronto a caer, velocidad = \" + str(a_nearby) + \" km/s.\")\n",
    "        if a_nearby <= v_look_thunder:\n",
    "            print(\"Busquen el asteroide en el cielo, es como un rayo\")\n",
    "        elif a_nearby == v_look_thunder:\n",
    "            print(\"Es posible verlo, busquenlo\")\n",
    "        else:\n",
    "            print(\"No se podra ver\")\n",
    "    else:\n",
    "        print(\"No hay asteroide por el cual preocuparse, el más cercano tiene velocidad de \" + str(a_nearby) + \" km/s.\")\n",
    "   \n",
    "\n",
    "\n",
    "if __name__ == '__main__':\n",
    "    run()"
   ]
  },
  {
   "cell_type": "markdown",
   "metadata": {},
   "source": [
    "<h2> Ejercicio 3"
   ]
  },
  {
   "cell_type": "code",
   "execution_count": 8,
   "metadata": {},
   "outputs": [
    {
     "name": "stdout",
     "output_type": "stream",
     "text": [
      "¡Alerta! caera un preligroso asteroide, su velocidad es de  19 km/s.\n"
     ]
    }
   ],
   "source": [
    "def run():\n",
    "    v_dangerous = 25\n",
    "    v_asteroid = 19\n",
    "    t_astreroid = 50\n",
    "    if v_asteroid <= v_dangerous and t_astreroid >= 25:\n",
    "        print(\"¡Alerta! caera un preligroso asteroide, su velocidad es de  \"+ str(v_asteroid) + \" km/s.\")\n",
    "    elif v_asteroid >= 20:\n",
    "        print(\"Busquenlo en el cielo, hay una luz\")\n",
    "    elif t_astreroid < 25:\n",
    "        print(\"El asteroide no es visible \")\n",
    "    else:\n",
    "        print(\"No corremos ningun peligro\")\n",
    "    \n",
    "\n",
    "\n",
    "if __name__ == '__main__':\n",
    "    run()"
   ]
  }
 ],
 "metadata": {
  "interpreter": {
   "hash": "aee8b7b246df8f9039afb4144a1f6fd8d2ca17a180786b69acc140d282b71a49"
  },
  "kernelspec": {
   "display_name": "Python 3.10.2 64-bit",
   "language": "python",
   "name": "python3"
  },
  "language_info": {
   "codemirror_mode": {
    "name": "ipython",
    "version": 3
   },
   "file_extension": ".py",
   "mimetype": "text/x-python",
   "name": "python",
   "nbconvert_exporter": "python",
   "pygments_lexer": "ipython3",
   "version": "3.10.2"
  },
  "orig_nbformat": 4
 },
 "nbformat": 4,
 "nbformat_minor": 2
}
